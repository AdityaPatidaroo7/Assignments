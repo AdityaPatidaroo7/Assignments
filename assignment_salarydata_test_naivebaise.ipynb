{
 "cells": [
  {
   "cell_type": "code",
   "execution_count": 36,
   "id": "6053e8eb",
   "metadata": {},
   "outputs": [],
   "source": [
    "import pandas as pd\n",
    "import numpy as np\n",
    "import matplotlib.pyplot as plt\n",
    "from sklearn.model_selection import train_test_split"
   ]
  },
  {
   "cell_type": "code",
   "execution_count": 19,
   "id": "5d110d7a",
   "metadata": {},
   "outputs": [],
   "source": [
    "test=pd.read_csv('SalaryData_Test.csv') #loading the data\n",
    "train=pd.read_csv('SalaryData_Train.csv')"
   ]
  },
  {
   "cell_type": "code",
   "execution_count": 20,
   "id": "e27617d2",
   "metadata": {},
   "outputs": [
    {
     "data": {
      "text/html": [
       "<div>\n",
       "<style scoped>\n",
       "    .dataframe tbody tr th:only-of-type {\n",
       "        vertical-align: middle;\n",
       "    }\n",
       "\n",
       "    .dataframe tbody tr th {\n",
       "        vertical-align: top;\n",
       "    }\n",
       "\n",
       "    .dataframe thead th {\n",
       "        text-align: right;\n",
       "    }\n",
       "</style>\n",
       "<table border=\"1\" class=\"dataframe\">\n",
       "  <thead>\n",
       "    <tr style=\"text-align: right;\">\n",
       "      <th></th>\n",
       "      <th>age</th>\n",
       "      <th>workclass</th>\n",
       "      <th>education</th>\n",
       "      <th>educationno</th>\n",
       "      <th>maritalstatus</th>\n",
       "      <th>occupation</th>\n",
       "      <th>relationship</th>\n",
       "      <th>race</th>\n",
       "      <th>sex</th>\n",
       "      <th>capitalgain</th>\n",
       "      <th>capitalloss</th>\n",
       "      <th>hoursperweek</th>\n",
       "      <th>native</th>\n",
       "      <th>Salary</th>\n",
       "    </tr>\n",
       "  </thead>\n",
       "  <tbody>\n",
       "    <tr>\n",
       "      <th>0</th>\n",
       "      <td>43</td>\n",
       "      <td>Private</td>\n",
       "      <td>Masters</td>\n",
       "      <td>14</td>\n",
       "      <td>Married-civ-spouse</td>\n",
       "      <td>Exec-managerial</td>\n",
       "      <td>Husband</td>\n",
       "      <td>White</td>\n",
       "      <td>Male</td>\n",
       "      <td>0</td>\n",
       "      <td>0</td>\n",
       "      <td>50</td>\n",
       "      <td>United-States</td>\n",
       "      <td>&gt;50K</td>\n",
       "    </tr>\n",
       "    <tr>\n",
       "      <th>1</th>\n",
       "      <td>43</td>\n",
       "      <td>Private</td>\n",
       "      <td>Masters</td>\n",
       "      <td>14</td>\n",
       "      <td>Married-civ-spouse</td>\n",
       "      <td>Exec-managerial</td>\n",
       "      <td>Husband</td>\n",
       "      <td>White</td>\n",
       "      <td>Male</td>\n",
       "      <td>0</td>\n",
       "      <td>0</td>\n",
       "      <td>50</td>\n",
       "      <td>United-States</td>\n",
       "      <td>&gt;50K</td>\n",
       "    </tr>\n",
       "    <tr>\n",
       "      <th>2</th>\n",
       "      <td>37</td>\n",
       "      <td>Private</td>\n",
       "      <td>HS-grad</td>\n",
       "      <td>9</td>\n",
       "      <td>Widowed</td>\n",
       "      <td>Machine-op-inspct</td>\n",
       "      <td>Unmarried</td>\n",
       "      <td>White</td>\n",
       "      <td>Female</td>\n",
       "      <td>0</td>\n",
       "      <td>0</td>\n",
       "      <td>20</td>\n",
       "      <td>United-States</td>\n",
       "      <td>&lt;=50K</td>\n",
       "    </tr>\n",
       "    <tr>\n",
       "      <th>3</th>\n",
       "      <td>25</td>\n",
       "      <td>Private</td>\n",
       "      <td>Bachelors</td>\n",
       "      <td>13</td>\n",
       "      <td>Married-civ-spouse</td>\n",
       "      <td>Prof-specialty</td>\n",
       "      <td>Husband</td>\n",
       "      <td>White</td>\n",
       "      <td>Male</td>\n",
       "      <td>0</td>\n",
       "      <td>0</td>\n",
       "      <td>40</td>\n",
       "      <td>United-States</td>\n",
       "      <td>&lt;=50K</td>\n",
       "    </tr>\n",
       "    <tr>\n",
       "      <th>4</th>\n",
       "      <td>25</td>\n",
       "      <td>Private</td>\n",
       "      <td>Bachelors</td>\n",
       "      <td>13</td>\n",
       "      <td>Married-civ-spouse</td>\n",
       "      <td>Prof-specialty</td>\n",
       "      <td>Husband</td>\n",
       "      <td>White</td>\n",
       "      <td>Male</td>\n",
       "      <td>0</td>\n",
       "      <td>0</td>\n",
       "      <td>40</td>\n",
       "      <td>United-States</td>\n",
       "      <td>&lt;=50K</td>\n",
       "    </tr>\n",
       "  </tbody>\n",
       "</table>\n",
       "</div>"
      ],
      "text/plain": [
       "   age workclass   education  educationno        maritalstatus  \\\n",
       "0   43   Private     Masters           14   Married-civ-spouse   \n",
       "1   43   Private     Masters           14   Married-civ-spouse   \n",
       "2   37   Private     HS-grad            9              Widowed   \n",
       "3   25   Private   Bachelors           13   Married-civ-spouse   \n",
       "4   25   Private   Bachelors           13   Married-civ-spouse   \n",
       "\n",
       "           occupation relationship    race      sex  capitalgain  capitalloss  \\\n",
       "0     Exec-managerial      Husband   White     Male            0            0   \n",
       "1     Exec-managerial      Husband   White     Male            0            0   \n",
       "2   Machine-op-inspct    Unmarried   White   Female            0            0   \n",
       "3      Prof-specialty      Husband   White     Male            0            0   \n",
       "4      Prof-specialty      Husband   White     Male            0            0   \n",
       "\n",
       "   hoursperweek          native  Salary  \n",
       "0            50   United-States    >50K  \n",
       "1            50   United-States    >50K  \n",
       "2            20   United-States   <=50K  \n",
       "3            40   United-States   <=50K  \n",
       "4            40   United-States   <=50K  "
      ]
     },
     "execution_count": 20,
     "metadata": {},
     "output_type": "execute_result"
    }
   ],
   "source": [
    "train=pd.merge(test,train)\n",
    "train.head()"
   ]
  },
  {
   "cell_type": "code",
   "execution_count": 21,
   "id": "e51f7ee7",
   "metadata": {},
   "outputs": [
    {
     "data": {
      "text/html": [
       "<div>\n",
       "<style scoped>\n",
       "    .dataframe tbody tr th:only-of-type {\n",
       "        vertical-align: middle;\n",
       "    }\n",
       "\n",
       "    .dataframe tbody tr th {\n",
       "        vertical-align: top;\n",
       "    }\n",
       "\n",
       "    .dataframe thead th {\n",
       "        text-align: right;\n",
       "    }\n",
       "</style>\n",
       "<table border=\"1\" class=\"dataframe\">\n",
       "  <thead>\n",
       "    <tr style=\"text-align: right;\">\n",
       "      <th></th>\n",
       "      <th>age</th>\n",
       "      <th>educationno</th>\n",
       "      <th>capitalgain</th>\n",
       "      <th>capitalloss</th>\n",
       "      <th>hoursperweek</th>\n",
       "    </tr>\n",
       "  </thead>\n",
       "  <tbody>\n",
       "    <tr>\n",
       "      <th>count</th>\n",
       "      <td>5910.000000</td>\n",
       "      <td>5910.000000</td>\n",
       "      <td>5910.000000</td>\n",
       "      <td>5910.000000</td>\n",
       "      <td>5910.000000</td>\n",
       "    </tr>\n",
       "    <tr>\n",
       "      <th>mean</th>\n",
       "      <td>32.815059</td>\n",
       "      <td>9.774450</td>\n",
       "      <td>49.204738</td>\n",
       "      <td>2.436548</td>\n",
       "      <td>38.545516</td>\n",
       "    </tr>\n",
       "    <tr>\n",
       "      <th>std</th>\n",
       "      <td>10.892922</td>\n",
       "      <td>1.675096</td>\n",
       "      <td>1433.023789</td>\n",
       "      <td>71.195428</td>\n",
       "      <td>7.456800</td>\n",
       "    </tr>\n",
       "    <tr>\n",
       "      <th>min</th>\n",
       "      <td>17.000000</td>\n",
       "      <td>1.000000</td>\n",
       "      <td>0.000000</td>\n",
       "      <td>0.000000</td>\n",
       "      <td>8.000000</td>\n",
       "    </tr>\n",
       "    <tr>\n",
       "      <th>25%</th>\n",
       "      <td>23.000000</td>\n",
       "      <td>9.000000</td>\n",
       "      <td>0.000000</td>\n",
       "      <td>0.000000</td>\n",
       "      <td>40.000000</td>\n",
       "    </tr>\n",
       "    <tr>\n",
       "      <th>50%</th>\n",
       "      <td>32.000000</td>\n",
       "      <td>9.000000</td>\n",
       "      <td>0.000000</td>\n",
       "      <td>0.000000</td>\n",
       "      <td>40.000000</td>\n",
       "    </tr>\n",
       "    <tr>\n",
       "      <th>75%</th>\n",
       "      <td>40.000000</td>\n",
       "      <td>10.000000</td>\n",
       "      <td>0.000000</td>\n",
       "      <td>0.000000</td>\n",
       "      <td>40.000000</td>\n",
       "    </tr>\n",
       "    <tr>\n",
       "      <th>max</th>\n",
       "      <td>67.000000</td>\n",
       "      <td>16.000000</td>\n",
       "      <td>99999.000000</td>\n",
       "      <td>2415.000000</td>\n",
       "      <td>85.000000</td>\n",
       "    </tr>\n",
       "  </tbody>\n",
       "</table>\n",
       "</div>"
      ],
      "text/plain": [
       "               age  educationno   capitalgain  capitalloss  hoursperweek\n",
       "count  5910.000000  5910.000000   5910.000000  5910.000000   5910.000000\n",
       "mean     32.815059     9.774450     49.204738     2.436548     38.545516\n",
       "std      10.892922     1.675096   1433.023789    71.195428      7.456800\n",
       "min      17.000000     1.000000      0.000000     0.000000      8.000000\n",
       "25%      23.000000     9.000000      0.000000     0.000000     40.000000\n",
       "50%      32.000000     9.000000      0.000000     0.000000     40.000000\n",
       "75%      40.000000    10.000000      0.000000     0.000000     40.000000\n",
       "max      67.000000    16.000000  99999.000000  2415.000000     85.000000"
      ]
     },
     "execution_count": 21,
     "metadata": {},
     "output_type": "execute_result"
    }
   ],
   "source": [
    "train.describe()"
   ]
  },
  {
   "cell_type": "code",
   "execution_count": 22,
   "id": "61aa8924",
   "metadata": {},
   "outputs": [
    {
     "name": "stdout",
     "output_type": "stream",
     "text": [
      "<class 'pandas.core.frame.DataFrame'>\n",
      "Int64Index: 5910 entries, 0 to 5909\n",
      "Data columns (total 14 columns):\n",
      " #   Column         Non-Null Count  Dtype \n",
      "---  ------         --------------  ----- \n",
      " 0   age            5910 non-null   int64 \n",
      " 1   workclass      5910 non-null   object\n",
      " 2   education      5910 non-null   object\n",
      " 3   educationno    5910 non-null   int64 \n",
      " 4   maritalstatus  5910 non-null   object\n",
      " 5   occupation     5910 non-null   object\n",
      " 6   relationship   5910 non-null   object\n",
      " 7   race           5910 non-null   object\n",
      " 8   sex            5910 non-null   object\n",
      " 9   capitalgain    5910 non-null   int64 \n",
      " 10  capitalloss    5910 non-null   int64 \n",
      " 11  hoursperweek   5910 non-null   int64 \n",
      " 12  native         5910 non-null   object\n",
      " 13  Salary         5910 non-null   object\n",
      "dtypes: int64(5), object(9)\n",
      "memory usage: 484.8+ KB\n"
     ]
    }
   ],
   "source": [
    "train.info()"
   ]
  },
  {
   "cell_type": "code",
   "execution_count": 23,
   "id": "05b915d3",
   "metadata": {},
   "outputs": [],
   "source": [
    "from sklearn import preprocessing \n",
    "label_encoder = preprocessing.LabelEncoder()"
   ]
  },
  {
   "cell_type": "code",
   "execution_count": 24,
   "id": "bd2ec5ea",
   "metadata": {},
   "outputs": [
    {
     "data": {
      "text/plain": [
       "array([' Private', ' Local-gov', ' Self-emp-inc', ' Federal-gov',\n",
       "       ' Self-emp-not-inc', ' State-gov'], dtype=object)"
      ]
     },
     "execution_count": 24,
     "metadata": {},
     "output_type": "execute_result"
    }
   ],
   "source": [
    "train['workclass'].unique()"
   ]
  },
  {
   "cell_type": "code",
   "execution_count": 25,
   "id": "7f17f323",
   "metadata": {},
   "outputs": [
    {
     "data": {
      "text/plain": [
       "array([' Masters', ' HS-grad', ' Bachelors', ' Some-college',\n",
       "       ' Assoc-voc', ' Assoc-acdm', ' 11th', ' 1st-4th', ' 7th-8th',\n",
       "       ' 10th', ' Prof-school', ' 5th-6th', ' 12th', ' Doctorate', ' 9th',\n",
       "       ' Preschool'], dtype=object)"
      ]
     },
     "execution_count": 25,
     "metadata": {},
     "output_type": "execute_result"
    }
   ],
   "source": [
    "train.education.unique()"
   ]
  },
  {
   "cell_type": "code",
   "execution_count": 26,
   "id": "3791878f",
   "metadata": {},
   "outputs": [
    {
     "data": {
      "text/plain": [
       "array([' Masters', ' HS-grad', ' Bachelors', ' Some-college',\n",
       "       ' Assoc-voc', ' Assoc-acdm', ' 11th', ' 1st-4th', ' 7th-8th',\n",
       "       ' 10th', ' Prof-school', ' 5th-6th', ' 12th', ' Doctorate', ' 9th',\n",
       "       ' Preschool'], dtype=object)"
      ]
     },
     "execution_count": 26,
     "metadata": {},
     "output_type": "execute_result"
    }
   ],
   "source": [
    "train.education.unique()"
   ]
  },
  {
   "cell_type": "code",
   "execution_count": 27,
   "id": "d0f87dd8",
   "metadata": {},
   "outputs": [
    {
     "data": {
      "text/plain": [
       "array([' Husband', ' Unmarried', ' Own-child', ' Not-in-family', ' Wife',\n",
       "       ' Other-relative'], dtype=object)"
      ]
     },
     "execution_count": 27,
     "metadata": {},
     "output_type": "execute_result"
    }
   ],
   "source": [
    "train.relationship.unique()"
   ]
  },
  {
   "cell_type": "code",
   "execution_count": 28,
   "id": "168c7af6",
   "metadata": {},
   "outputs": [
    {
     "data": {
      "text/plain": [
       "array([' White', ' Black', ' Asian-Pac-Islander'], dtype=object)"
      ]
     },
     "execution_count": 28,
     "metadata": {},
     "output_type": "execute_result"
    }
   ],
   "source": [
    "train.race.unique()"
   ]
  },
  {
   "cell_type": "code",
   "execution_count": 29,
   "id": "042d2a68",
   "metadata": {},
   "outputs": [
    {
     "data": {
      "text/plain": [
       "array([' Male', ' Female'], dtype=object)"
      ]
     },
     "execution_count": 29,
     "metadata": {},
     "output_type": "execute_result"
    }
   ],
   "source": [
    "train.sex.unique()"
   ]
  },
  {
   "cell_type": "code",
   "execution_count": 30,
   "id": "ee5e14c7",
   "metadata": {},
   "outputs": [
    {
     "data": {
      "text/plain": [
       "array([' United-States', ' Mexico', ' Jamaica', ' Philippines'],\n",
       "      dtype=object)"
      ]
     },
     "execution_count": 30,
     "metadata": {},
     "output_type": "execute_result"
    }
   ],
   "source": [
    "train.native.unique()"
   ]
  },
  {
   "cell_type": "code",
   "execution_count": 33,
   "id": "96b476e1",
   "metadata": {},
   "outputs": [],
   "source": [
    "#label encoding\n",
    "train['workclass']= label_encoder.fit_transform(train['workclass'])\n",
    "train['education']= label_encoder.fit_transform(train['education'])\n",
    "train['occupation']= label_encoder.fit_transform(train['occupation'])\n",
    "train['relationship']= label_encoder.fit_transform(train['relationship'])\n",
    "train['race']= label_encoder.fit_transform(train['race'])\n",
    "train['sex']=label_encoder.fit_transform(train['sex'])\n",
    "train['native']=label_encoder.fit_transform(train['native'])\n",
    "train['maritalstatus']=label_encoder.fit_transform(train['maritalstatus'])"
   ]
  },
  {
   "cell_type": "code",
   "execution_count": 34,
   "id": "e4304df1",
   "metadata": {},
   "outputs": [
    {
     "data": {
      "text/html": [
       "<div>\n",
       "<style scoped>\n",
       "    .dataframe tbody tr th:only-of-type {\n",
       "        vertical-align: middle;\n",
       "    }\n",
       "\n",
       "    .dataframe tbody tr th {\n",
       "        vertical-align: top;\n",
       "    }\n",
       "\n",
       "    .dataframe thead th {\n",
       "        text-align: right;\n",
       "    }\n",
       "</style>\n",
       "<table border=\"1\" class=\"dataframe\">\n",
       "  <thead>\n",
       "    <tr style=\"text-align: right;\">\n",
       "      <th></th>\n",
       "      <th>age</th>\n",
       "      <th>workclass</th>\n",
       "      <th>education</th>\n",
       "      <th>educationno</th>\n",
       "      <th>maritalstatus</th>\n",
       "      <th>occupation</th>\n",
       "      <th>relationship</th>\n",
       "      <th>race</th>\n",
       "      <th>sex</th>\n",
       "      <th>capitalgain</th>\n",
       "      <th>capitalloss</th>\n",
       "      <th>hoursperweek</th>\n",
       "      <th>native</th>\n",
       "      <th>Salary</th>\n",
       "    </tr>\n",
       "  </thead>\n",
       "  <tbody>\n",
       "    <tr>\n",
       "      <th>0</th>\n",
       "      <td>43</td>\n",
       "      <td>2</td>\n",
       "      <td>12</td>\n",
       "      <td>14</td>\n",
       "      <td>1</td>\n",
       "      <td>2</td>\n",
       "      <td>0</td>\n",
       "      <td>2</td>\n",
       "      <td>1</td>\n",
       "      <td>0</td>\n",
       "      <td>0</td>\n",
       "      <td>50</td>\n",
       "      <td>3</td>\n",
       "      <td>&gt;50K</td>\n",
       "    </tr>\n",
       "    <tr>\n",
       "      <th>1</th>\n",
       "      <td>43</td>\n",
       "      <td>2</td>\n",
       "      <td>12</td>\n",
       "      <td>14</td>\n",
       "      <td>1</td>\n",
       "      <td>2</td>\n",
       "      <td>0</td>\n",
       "      <td>2</td>\n",
       "      <td>1</td>\n",
       "      <td>0</td>\n",
       "      <td>0</td>\n",
       "      <td>50</td>\n",
       "      <td>3</td>\n",
       "      <td>&gt;50K</td>\n",
       "    </tr>\n",
       "    <tr>\n",
       "      <th>2</th>\n",
       "      <td>37</td>\n",
       "      <td>2</td>\n",
       "      <td>11</td>\n",
       "      <td>9</td>\n",
       "      <td>4</td>\n",
       "      <td>5</td>\n",
       "      <td>4</td>\n",
       "      <td>2</td>\n",
       "      <td>0</td>\n",
       "      <td>0</td>\n",
       "      <td>0</td>\n",
       "      <td>20</td>\n",
       "      <td>3</td>\n",
       "      <td>&lt;=50K</td>\n",
       "    </tr>\n",
       "    <tr>\n",
       "      <th>3</th>\n",
       "      <td>25</td>\n",
       "      <td>2</td>\n",
       "      <td>9</td>\n",
       "      <td>13</td>\n",
       "      <td>1</td>\n",
       "      <td>7</td>\n",
       "      <td>0</td>\n",
       "      <td>2</td>\n",
       "      <td>1</td>\n",
       "      <td>0</td>\n",
       "      <td>0</td>\n",
       "      <td>40</td>\n",
       "      <td>3</td>\n",
       "      <td>&lt;=50K</td>\n",
       "    </tr>\n",
       "    <tr>\n",
       "      <th>4</th>\n",
       "      <td>25</td>\n",
       "      <td>2</td>\n",
       "      <td>9</td>\n",
       "      <td>13</td>\n",
       "      <td>1</td>\n",
       "      <td>7</td>\n",
       "      <td>0</td>\n",
       "      <td>2</td>\n",
       "      <td>1</td>\n",
       "      <td>0</td>\n",
       "      <td>0</td>\n",
       "      <td>40</td>\n",
       "      <td>3</td>\n",
       "      <td>&lt;=50K</td>\n",
       "    </tr>\n",
       "  </tbody>\n",
       "</table>\n",
       "</div>"
      ],
      "text/plain": [
       "   age  workclass  education  educationno  maritalstatus  occupation  \\\n",
       "0   43          2         12           14              1           2   \n",
       "1   43          2         12           14              1           2   \n",
       "2   37          2         11            9              4           5   \n",
       "3   25          2          9           13              1           7   \n",
       "4   25          2          9           13              1           7   \n",
       "\n",
       "   relationship  race  sex  capitalgain  capitalloss  hoursperweek  native  \\\n",
       "0             0     2    1            0            0            50       3   \n",
       "1             0     2    1            0            0            50       3   \n",
       "2             4     2    0            0            0            20       3   \n",
       "3             0     2    1            0            0            40       3   \n",
       "4             0     2    1            0            0            40       3   \n",
       "\n",
       "   Salary  \n",
       "0    >50K  \n",
       "1    >50K  \n",
       "2   <=50K  \n",
       "3   <=50K  \n",
       "4   <=50K  "
      ]
     },
     "execution_count": 34,
     "metadata": {},
     "output_type": "execute_result"
    }
   ],
   "source": [
    "train.head()"
   ]
  },
  {
   "cell_type": "code",
   "execution_count": 35,
   "id": "5357567f",
   "metadata": {},
   "outputs": [
    {
     "name": "stdout",
     "output_type": "stream",
     "text": [
      "<class 'pandas.core.frame.DataFrame'>\n",
      "Int64Index: 5910 entries, 0 to 5909\n",
      "Data columns (total 14 columns):\n",
      " #   Column         Non-Null Count  Dtype \n",
      "---  ------         --------------  ----- \n",
      " 0   age            5910 non-null   int64 \n",
      " 1   workclass      5910 non-null   int32 \n",
      " 2   education      5910 non-null   int32 \n",
      " 3   educationno    5910 non-null   int64 \n",
      " 4   maritalstatus  5910 non-null   int32 \n",
      " 5   occupation     5910 non-null   int32 \n",
      " 6   relationship   5910 non-null   int32 \n",
      " 7   race           5910 non-null   int32 \n",
      " 8   sex            5910 non-null   int32 \n",
      " 9   capitalgain    5910 non-null   int64 \n",
      " 10  capitalloss    5910 non-null   int64 \n",
      " 11  hoursperweek   5910 non-null   int64 \n",
      " 12  native         5910 non-null   int32 \n",
      " 13  Salary         5910 non-null   object\n",
      "dtypes: int32(8), int64(5), object(1)\n",
      "memory usage: 484.8+ KB\n"
     ]
    }
   ],
   "source": [
    "#checking dtypes\n",
    "train.info()"
   ]
  },
  {
   "cell_type": "code",
   "execution_count": 37,
   "id": "91698233",
   "metadata": {},
   "outputs": [],
   "source": [
    "#spliting the data\n",
    "X_train, X_test = train_test_split(train, test_size = 0.25, random_state = 0)"
   ]
  },
  {
   "cell_type": "code",
   "execution_count": 39,
   "id": "64719115",
   "metadata": {},
   "outputs": [],
   "source": [
    "X_train = X_train.iloc[:,:-1]\n",
    "y_train = X_train.iloc[:,-1]\n",
    "X_test =  X_test.iloc[:,:-1]\n",
    "y_test = X_test.iloc[:,-1]"
   ]
  },
  {
   "cell_type": "code",
   "execution_count": 40,
   "id": "06e5bbc0",
   "metadata": {},
   "outputs": [
    {
     "data": {
      "text/html": [
       "<div>\n",
       "<style scoped>\n",
       "    .dataframe tbody tr th:only-of-type {\n",
       "        vertical-align: middle;\n",
       "    }\n",
       "\n",
       "    .dataframe tbody tr th {\n",
       "        vertical-align: top;\n",
       "    }\n",
       "\n",
       "    .dataframe thead th {\n",
       "        text-align: right;\n",
       "    }\n",
       "</style>\n",
       "<table border=\"1\" class=\"dataframe\">\n",
       "  <thead>\n",
       "    <tr style=\"text-align: right;\">\n",
       "      <th></th>\n",
       "      <th>age</th>\n",
       "      <th>workclass</th>\n",
       "      <th>education</th>\n",
       "      <th>educationno</th>\n",
       "      <th>maritalstatus</th>\n",
       "      <th>occupation</th>\n",
       "      <th>relationship</th>\n",
       "      <th>race</th>\n",
       "      <th>sex</th>\n",
       "      <th>capitalgain</th>\n",
       "      <th>capitalloss</th>\n",
       "      <th>hoursperweek</th>\n",
       "      <th>native</th>\n",
       "    </tr>\n",
       "  </thead>\n",
       "  <tbody>\n",
       "    <tr>\n",
       "      <th>1285</th>\n",
       "      <td>36</td>\n",
       "      <td>2</td>\n",
       "      <td>15</td>\n",
       "      <td>10</td>\n",
       "      <td>1</td>\n",
       "      <td>1</td>\n",
       "      <td>0</td>\n",
       "      <td>2</td>\n",
       "      <td>1</td>\n",
       "      <td>0</td>\n",
       "      <td>0</td>\n",
       "      <td>40</td>\n",
       "      <td>3</td>\n",
       "    </tr>\n",
       "    <tr>\n",
       "      <th>4062</th>\n",
       "      <td>34</td>\n",
       "      <td>2</td>\n",
       "      <td>11</td>\n",
       "      <td>9</td>\n",
       "      <td>0</td>\n",
       "      <td>1</td>\n",
       "      <td>1</td>\n",
       "      <td>2</td>\n",
       "      <td>1</td>\n",
       "      <td>0</td>\n",
       "      <td>0</td>\n",
       "      <td>40</td>\n",
       "      <td>3</td>\n",
       "    </tr>\n",
       "    <tr>\n",
       "      <th>5692</th>\n",
       "      <td>33</td>\n",
       "      <td>2</td>\n",
       "      <td>11</td>\n",
       "      <td>9</td>\n",
       "      <td>1</td>\n",
       "      <td>1</td>\n",
       "      <td>0</td>\n",
       "      <td>2</td>\n",
       "      <td>1</td>\n",
       "      <td>0</td>\n",
       "      <td>0</td>\n",
       "      <td>45</td>\n",
       "      <td>3</td>\n",
       "    </tr>\n",
       "    <tr>\n",
       "      <th>689</th>\n",
       "      <td>36</td>\n",
       "      <td>2</td>\n",
       "      <td>11</td>\n",
       "      <td>9</td>\n",
       "      <td>1</td>\n",
       "      <td>1</td>\n",
       "      <td>0</td>\n",
       "      <td>2</td>\n",
       "      <td>1</td>\n",
       "      <td>0</td>\n",
       "      <td>0</td>\n",
       "      <td>40</td>\n",
       "      <td>3</td>\n",
       "    </tr>\n",
       "    <tr>\n",
       "      <th>4320</th>\n",
       "      <td>21</td>\n",
       "      <td>2</td>\n",
       "      <td>15</td>\n",
       "      <td>10</td>\n",
       "      <td>2</td>\n",
       "      <td>1</td>\n",
       "      <td>1</td>\n",
       "      <td>2</td>\n",
       "      <td>1</td>\n",
       "      <td>0</td>\n",
       "      <td>0</td>\n",
       "      <td>40</td>\n",
       "      <td>3</td>\n",
       "    </tr>\n",
       "    <tr>\n",
       "      <th>...</th>\n",
       "      <td>...</td>\n",
       "      <td>...</td>\n",
       "      <td>...</td>\n",
       "      <td>...</td>\n",
       "      <td>...</td>\n",
       "      <td>...</td>\n",
       "      <td>...</td>\n",
       "      <td>...</td>\n",
       "      <td>...</td>\n",
       "      <td>...</td>\n",
       "      <td>...</td>\n",
       "      <td>...</td>\n",
       "      <td>...</td>\n",
       "    </tr>\n",
       "    <tr>\n",
       "      <th>4931</th>\n",
       "      <td>54</td>\n",
       "      <td>2</td>\n",
       "      <td>12</td>\n",
       "      <td>14</td>\n",
       "      <td>1</td>\n",
       "      <td>7</td>\n",
       "      <td>0</td>\n",
       "      <td>2</td>\n",
       "      <td>1</td>\n",
       "      <td>0</td>\n",
       "      <td>0</td>\n",
       "      <td>40</td>\n",
       "      <td>3</td>\n",
       "    </tr>\n",
       "    <tr>\n",
       "      <th>3264</th>\n",
       "      <td>18</td>\n",
       "      <td>2</td>\n",
       "      <td>15</td>\n",
       "      <td>10</td>\n",
       "      <td>2</td>\n",
       "      <td>9</td>\n",
       "      <td>3</td>\n",
       "      <td>2</td>\n",
       "      <td>0</td>\n",
       "      <td>0</td>\n",
       "      <td>0</td>\n",
       "      <td>15</td>\n",
       "      <td>3</td>\n",
       "    </tr>\n",
       "    <tr>\n",
       "      <th>1653</th>\n",
       "      <td>50</td>\n",
       "      <td>2</td>\n",
       "      <td>11</td>\n",
       "      <td>9</td>\n",
       "      <td>1</td>\n",
       "      <td>1</td>\n",
       "      <td>0</td>\n",
       "      <td>2</td>\n",
       "      <td>1</td>\n",
       "      <td>0</td>\n",
       "      <td>0</td>\n",
       "      <td>40</td>\n",
       "      <td>3</td>\n",
       "    </tr>\n",
       "    <tr>\n",
       "      <th>2607</th>\n",
       "      <td>36</td>\n",
       "      <td>2</td>\n",
       "      <td>15</td>\n",
       "      <td>10</td>\n",
       "      <td>0</td>\n",
       "      <td>0</td>\n",
       "      <td>4</td>\n",
       "      <td>2</td>\n",
       "      <td>0</td>\n",
       "      <td>0</td>\n",
       "      <td>0</td>\n",
       "      <td>40</td>\n",
       "      <td>3</td>\n",
       "    </tr>\n",
       "    <tr>\n",
       "      <th>2732</th>\n",
       "      <td>29</td>\n",
       "      <td>2</td>\n",
       "      <td>11</td>\n",
       "      <td>9</td>\n",
       "      <td>1</td>\n",
       "      <td>1</td>\n",
       "      <td>0</td>\n",
       "      <td>2</td>\n",
       "      <td>1</td>\n",
       "      <td>0</td>\n",
       "      <td>0</td>\n",
       "      <td>40</td>\n",
       "      <td>3</td>\n",
       "    </tr>\n",
       "  </tbody>\n",
       "</table>\n",
       "<p>4432 rows × 13 columns</p>\n",
       "</div>"
      ],
      "text/plain": [
       "      age  workclass  education  educationno  maritalstatus  occupation  \\\n",
       "1285   36          2         15           10              1           1   \n",
       "4062   34          2         11            9              0           1   \n",
       "5692   33          2         11            9              1           1   \n",
       "689    36          2         11            9              1           1   \n",
       "4320   21          2         15           10              2           1   \n",
       "...   ...        ...        ...          ...            ...         ...   \n",
       "4931   54          2         12           14              1           7   \n",
       "3264   18          2         15           10              2           9   \n",
       "1653   50          2         11            9              1           1   \n",
       "2607   36          2         15           10              0           0   \n",
       "2732   29          2         11            9              1           1   \n",
       "\n",
       "      relationship  race  sex  capitalgain  capitalloss  hoursperweek  native  \n",
       "1285             0     2    1            0            0            40       3  \n",
       "4062             1     2    1            0            0            40       3  \n",
       "5692             0     2    1            0            0            45       3  \n",
       "689              0     2    1            0            0            40       3  \n",
       "4320             1     2    1            0            0            40       3  \n",
       "...            ...   ...  ...          ...          ...           ...     ...  \n",
       "4931             0     2    1            0            0            40       3  \n",
       "3264             3     2    0            0            0            15       3  \n",
       "1653             0     2    1            0            0            40       3  \n",
       "2607             4     2    0            0            0            40       3  \n",
       "2732             0     2    1            0            0            40       3  \n",
       "\n",
       "[4432 rows x 13 columns]"
      ]
     },
     "execution_count": 40,
     "metadata": {},
     "output_type": "execute_result"
    }
   ],
   "source": [
    "X_train"
   ]
  },
  {
   "cell_type": "code",
   "execution_count": 41,
   "id": "d90fd290",
   "metadata": {},
   "outputs": [
    {
     "data": {
      "text/plain": [
       "1285    3\n",
       "4062    3\n",
       "5692    3\n",
       "689     3\n",
       "4320    3\n",
       "       ..\n",
       "4931    3\n",
       "3264    3\n",
       "1653    3\n",
       "2607    3\n",
       "2732    3\n",
       "Name: native, Length: 4432, dtype: int32"
      ]
     },
     "execution_count": 41,
     "metadata": {},
     "output_type": "execute_result"
    }
   ],
   "source": [
    "y_train"
   ]
  },
  {
   "cell_type": "code",
   "execution_count": 43,
   "id": "980d4906",
   "metadata": {},
   "outputs": [],
   "source": [
    "#scaling\n",
    "from sklearn.preprocessing import StandardScaler\n",
    "standardsaler=StandardScaler()\n",
    "X_train = standardsaler.fit_transform(X_train)\n",
    "X_test = standardsaler.transform(X_test)"
   ]
  },
  {
   "cell_type": "code",
   "execution_count": 53,
   "id": "6a33fae3",
   "metadata": {},
   "outputs": [],
   "source": [
    "#Importing the models\n",
    "from sklearn.naive_bayes import GaussianNB\n",
    "from sklearn.naive_bayes import MultinomialNB as MB\n",
    "from sklearn.metrics import confusion_matrix"
   ]
  },
  {
   "cell_type": "code",
   "execution_count": 54,
   "id": "f9bc72d2",
   "metadata": {},
   "outputs": [],
   "source": [
    "GB = GaussianNB()"
   ]
  },
  {
   "cell_type": "code",
   "execution_count": 56,
   "id": "6a20eb12",
   "metadata": {},
   "outputs": [],
   "source": [
    "#ModelBuilding \n",
    "model = GB.fit(X_train,y_train)"
   ]
  },
  {
   "cell_type": "code",
   "execution_count": 63,
   "id": "bb0c867a",
   "metadata": {},
   "outputs": [
    {
     "data": {
      "text/plain": [
       "array([3, 3, 3, ..., 3, 3, 3])"
      ]
     },
     "execution_count": 63,
     "metadata": {},
     "output_type": "execute_result"
    }
   ],
   "source": [
    "#Predicting\n",
    "pred=model.predict(X_test)\n",
    "pred\n"
   ]
  },
  {
   "cell_type": "code",
   "execution_count": 58,
   "id": "8062c5ec",
   "metadata": {},
   "outputs": [
    {
     "data": {
      "text/plain": [
       "array([[   0,    8],\n",
       "       [   0, 1470]], dtype=int64)"
      ]
     },
     "execution_count": 58,
     "metadata": {},
     "output_type": "execute_result"
    }
   ],
   "source": [
    "#Gaussiannb_model\n",
    "confusion_matrix(y_test,pred)\n"
   ]
  },
  {
   "cell_type": "code",
   "execution_count": 60,
   "id": "ea24895c",
   "metadata": {},
   "outputs": [
    {
     "data": {
      "text/html": [
       "<div>\n",
       "<style scoped>\n",
       "    .dataframe tbody tr th:only-of-type {\n",
       "        vertical-align: middle;\n",
       "    }\n",
       "\n",
       "    .dataframe tbody tr th {\n",
       "        vertical-align: top;\n",
       "    }\n",
       "\n",
       "    .dataframe thead th {\n",
       "        text-align: right;\n",
       "    }\n",
       "</style>\n",
       "<table border=\"1\" class=\"dataframe\">\n",
       "  <thead>\n",
       "    <tr style=\"text-align: right;\">\n",
       "      <th>col_0</th>\n",
       "      <th>3</th>\n",
       "    </tr>\n",
       "    <tr>\n",
       "      <th>row_0</th>\n",
       "      <th></th>\n",
       "    </tr>\n",
       "  </thead>\n",
       "  <tbody>\n",
       "    <tr>\n",
       "      <th>1</th>\n",
       "      <td>8</td>\n",
       "    </tr>\n",
       "    <tr>\n",
       "      <th>3</th>\n",
       "      <td>1470</td>\n",
       "    </tr>\n",
       "  </tbody>\n",
       "</table>\n",
       "</div>"
      ],
      "text/plain": [
       "col_0     3\n",
       "row_0      \n",
       "1         8\n",
       "3      1470"
      ]
     },
     "execution_count": 60,
     "metadata": {},
     "output_type": "execute_result"
    }
   ],
   "source": [
    "#Confusion_matrix \n",
    "pd.crosstab(y_test.values.flatten(),pred) "
   ]
  },
  {
   "cell_type": "code",
   "execution_count": 62,
   "id": "d6baa795",
   "metadata": {},
   "outputs": [
    {
     "data": {
      "text/plain": [
       "0.9945872801082544"
      ]
     },
     "execution_count": 62,
     "metadata": {},
     "output_type": "execute_result"
    }
   ],
   "source": [
    "#Model_Accuracy\n",
    "np.mean(pred==y_test.values.flatten())"
   ]
  },
  {
   "cell_type": "code",
   "execution_count": null,
   "id": "59b32880",
   "metadata": {},
   "outputs": [],
   "source": []
  }
 ],
 "metadata": {
  "kernelspec": {
   "display_name": "Python 3 (ipykernel)",
   "language": "python",
   "name": "python3"
  },
  "language_info": {
   "codemirror_mode": {
    "name": "ipython",
    "version": 3
   },
   "file_extension": ".py",
   "mimetype": "text/x-python",
   "name": "python",
   "nbconvert_exporter": "python",
   "pygments_lexer": "ipython3",
   "version": "3.9.7"
  }
 },
 "nbformat": 4,
 "nbformat_minor": 5
}
