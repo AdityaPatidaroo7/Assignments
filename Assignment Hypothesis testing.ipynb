{
 "cells": [
  {
   "cell_type": "code",
   "execution_count": 1,
   "id": "fd5ff2a9",
   "metadata": {},
   "outputs": [],
   "source": [
    "import pandas as pd\n",
    "import numpy as np\n",
    "import scipy\n",
    "from scipy import stats"
   ]
  },
  {
   "cell_type": "code",
   "execution_count": 2,
   "id": "82ed9035",
   "metadata": {},
   "outputs": [
    {
     "name": "stdout",
     "output_type": "stream",
     "text": [
      " Volume in drive C has no label.\n",
      " Volume Serial Number is 703C-6D5B\n",
      "\n",
      " Directory of C:\\Users\\lenovo1\n",
      "\n",
      "03/05/2022  01:30 PM    <DIR>          .\n",
      "03/05/2022  01:30 PM    <DIR>          ..\n",
      "03/05/2022  01:28 PM    <DIR>          .ipynb_checkpoints\n",
      "02/27/2022  08:54 PM    <DIR>          .ipython\n",
      "02/26/2022  04:07 PM    <DIR>          .jupyter\n",
      "02/26/2022  02:10 PM    <DIR>          Anaconda3\n",
      "03/05/2022  01:07 PM            33,099 Assignment 4 (toyoto corolla) (1).ipynb\n",
      "03/05/2022  01:07 PM           124,835 Assignment clusters (Crimes data) (2).ipynb\n",
      "03/05/2022  01:07 PM           314,540 assignment company_datadecision tree (1).ipynb\n",
      "03/05/2022  01:07 PM            77,349 assignment company_datadecision tree.ipynb\n",
      "03/05/2022  01:30 PM               833 Assignment Hypothesis testing.ipynb\n",
      "03/05/2022  01:14 PM            25,021 assignment NN forest fire.ipynb\n",
      "02/28/2022  10:10 AM    <DIR>          Assignments\n",
      "02/26/2022  04:12 PM            17,023 Company_Data.csv\n",
      "02/27/2022  02:57 AM    <DIR>          Contacts\n",
      "03/05/2022  12:48 PM            13,423 Costomer+OrderForm.csv\n",
      "03/05/2022  12:48 PM               525 Cutlets.csv\n",
      "03/02/2022  02:30 PM    <DIR>          Desktop\n",
      "03/02/2022  02:17 PM    <DIR>          Documents\n",
      "03/05/2022  01:22 PM    <DIR>          Downloads\n",
      "03/05/2022  01:24 PM    <DIR>          ds as\n",
      "02/27/2022  02:57 AM    <DIR>          Favorites\n",
      "03/05/2022  12:48 PM            46,843 forestfires.csv\n",
      "03/05/2022  12:48 PM            21,837 Fraud_check.csv\n",
      "03/05/2022  12:48 PM         1,155,536 gas_turbines.csv\n",
      "03/05/2022  12:48 PM             3,487 LabTAT.csv\n",
      "02/27/2022  02:57 AM    <DIR>          Links\n",
      "02/27/2022  02:57 AM    <DIR>          Music\n",
      "02/27/2022  02:57 AM    <DIR>          Pictures\n",
      "02/28/2022  08:21 PM    <DIR>          Pythone for data scince\n",
      "02/26/2022  04:12 PM             3,990 Random_Forest.py\n",
      "03/05/2022  12:48 PM         1,694,474 SalaryData_Test(1).csv\n",
      "03/05/2022  12:48 PM         3,393,618 SalaryData_Train(1).csv\n",
      "02/27/2022  02:57 AM    <DIR>          Saved Games\n",
      "02/27/2022  02:58 AM    <DIR>          Searches\n",
      "03/05/2022  01:24 PM    <DIR>          Untitled Folder\n",
      "02/28/2022  06:13 PM             2,135 Untitled.ipynb\n",
      "02/27/2022  02:57 AM    <DIR>          Videos\n",
      "02/26/2022  04:12 PM           865,845 Visualization_mat_seaborn_Latest.ipynb\n",
      "              18 File(s)      7,794,413 bytes\n",
      "              21 Dir(s)  65,546,940,416 bytes free\n"
     ]
    }
   ],
   "source": [
    "ls"
   ]
  },
  {
   "cell_type": "markdown",
   "id": "0de61041",
   "metadata": {},
   "source": [
    "# Cutlet assignment"
   ]
  },
  {
   "cell_type": "code",
   "execution_count": 3,
   "id": "9ffd890a",
   "metadata": {},
   "outputs": [],
   "source": [
    "cutlet=pd.read_csv(\"Cutlets.csv\")"
   ]
  },
  {
   "cell_type": "code",
   "execution_count": 4,
   "id": "6f854f2b",
   "metadata": {},
   "outputs": [
    {
     "data": {
      "text/html": [
       "<div>\n",
       "<style scoped>\n",
       "    .dataframe tbody tr th:only-of-type {\n",
       "        vertical-align: middle;\n",
       "    }\n",
       "\n",
       "    .dataframe tbody tr th {\n",
       "        vertical-align: top;\n",
       "    }\n",
       "\n",
       "    .dataframe thead th {\n",
       "        text-align: right;\n",
       "    }\n",
       "</style>\n",
       "<table border=\"1\" class=\"dataframe\">\n",
       "  <thead>\n",
       "    <tr style=\"text-align: right;\">\n",
       "      <th></th>\n",
       "      <th>Unit A</th>\n",
       "      <th>Unit B</th>\n",
       "    </tr>\n",
       "  </thead>\n",
       "  <tbody>\n",
       "    <tr>\n",
       "      <th>0</th>\n",
       "      <td>6.8090</td>\n",
       "      <td>6.7703</td>\n",
       "    </tr>\n",
       "    <tr>\n",
       "      <th>1</th>\n",
       "      <td>6.4376</td>\n",
       "      <td>7.5093</td>\n",
       "    </tr>\n",
       "    <tr>\n",
       "      <th>2</th>\n",
       "      <td>6.9157</td>\n",
       "      <td>6.7300</td>\n",
       "    </tr>\n",
       "    <tr>\n",
       "      <th>3</th>\n",
       "      <td>7.3012</td>\n",
       "      <td>6.7878</td>\n",
       "    </tr>\n",
       "    <tr>\n",
       "      <th>4</th>\n",
       "      <td>7.4488</td>\n",
       "      <td>7.1522</td>\n",
       "    </tr>\n",
       "  </tbody>\n",
       "</table>\n",
       "</div>"
      ],
      "text/plain": [
       "   Unit A  Unit B\n",
       "0  6.8090  6.7703\n",
       "1  6.4376  7.5093\n",
       "2  6.9157  6.7300\n",
       "3  7.3012  6.7878\n",
       "4  7.4488  7.1522"
      ]
     },
     "execution_count": 4,
     "metadata": {},
     "output_type": "execute_result"
    }
   ],
   "source": [
    "cutlet.head()"
   ]
  },
  {
   "cell_type": "code",
   "execution_count": 9,
   "id": "8e6bde20",
   "metadata": {},
   "outputs": [
    {
     "name": "stdout",
     "output_type": "stream",
     "text": [
      "0     6.8090\n",
      "1     6.4376\n",
      "2     6.9157\n",
      "3     7.3012\n",
      "4     7.4488\n",
      "5     7.3871\n",
      "6     6.8755\n",
      "7     7.0621\n",
      "8     6.6840\n",
      "9     6.8236\n",
      "10    7.3930\n",
      "11    7.5169\n",
      "12    6.9246\n",
      "13    6.9256\n",
      "14    6.5797\n",
      "15    6.8394\n",
      "16    6.5970\n",
      "17    7.2705\n",
      "18    7.2828\n",
      "19    7.3495\n",
      "20    6.9438\n",
      "21    7.1560\n",
      "22    6.5341\n",
      "23    7.2854\n",
      "24    6.9952\n",
      "25    6.8568\n",
      "26    7.2163\n",
      "27    6.6801\n",
      "28    6.9431\n",
      "29    7.0852\n",
      "30    6.7794\n",
      "31    7.2783\n",
      "32    7.1561\n",
      "33    7.3943\n",
      "34    6.9405\n",
      "Name: Unit A, dtype: float64\n"
     ]
    }
   ],
   "source": [
    "a=pd.Series(cutlet[\"Unit A\"])\n",
    "print(a)"
   ]
  },
  {
   "cell_type": "code",
   "execution_count": 11,
   "id": "ea8c6aa1",
   "metadata": {},
   "outputs": [
    {
     "name": "stdout",
     "output_type": "stream",
     "text": [
      "0     6.7703\n",
      "1     7.5093\n",
      "2     6.7300\n",
      "3     6.7878\n",
      "4     7.1522\n",
      "5     6.8110\n",
      "6     7.2212\n",
      "7     6.6606\n",
      "8     7.2402\n",
      "9     7.0503\n",
      "10    6.8810\n",
      "11    7.4059\n",
      "12    6.7652\n",
      "13    6.0380\n",
      "14    7.1581\n",
      "15    7.0240\n",
      "16    6.6672\n",
      "17    7.4314\n",
      "18    7.3070\n",
      "19    6.7478\n",
      "20    6.8889\n",
      "21    7.4220\n",
      "22    6.5217\n",
      "23    7.1688\n",
      "24    6.7594\n",
      "25    6.9399\n",
      "26    7.0133\n",
      "27    6.9182\n",
      "28    6.3346\n",
      "29    7.5459\n",
      "30    7.0992\n",
      "31    7.1180\n",
      "32    6.6965\n",
      "33    6.5780\n",
      "34    7.3875\n",
      "Name: Unit B, dtype: float64\n"
     ]
    }
   ],
   "source": [
    "b=pd.Series(cutlet[\"Unit B\"])\n",
    "print(b)"
   ]
  },
  {
   "cell_type": "code",
   "execution_count": 12,
   "id": "b966878a",
   "metadata": {},
   "outputs": [
    {
     "data": {
      "text/plain": [
       "Ttest_indResult(statistic=0.7228688704678063, pvalue=0.4722394724599501)"
      ]
     },
     "execution_count": 12,
     "metadata": {},
     "output_type": "execute_result"
    }
   ],
   "source": [
    "stats.ttest_ind(a,b)"
   ]
  },
  {
   "cell_type": "markdown",
   "id": "cc15cc69",
   "metadata": {},
   "source": [
    "#Hence pvalue is greater than 0.05 so accept null hypothesis"
   ]
  },
  {
   "cell_type": "markdown",
   "id": "7b16f40d",
   "metadata": {},
   "source": [
    "# BuyerRatio Assignment"
   ]
  },
  {
   "cell_type": "code",
   "execution_count": 15,
   "id": "fe5c1563",
   "metadata": {},
   "outputs": [],
   "source": [
    "BR=pd.read_csv('BuyerRatio.csv')"
   ]
  },
  {
   "cell_type": "code",
   "execution_count": 16,
   "id": "d60ef60e",
   "metadata": {},
   "outputs": [
    {
     "data": {
      "text/html": [
       "<div>\n",
       "<style scoped>\n",
       "    .dataframe tbody tr th:only-of-type {\n",
       "        vertical-align: middle;\n",
       "    }\n",
       "\n",
       "    .dataframe tbody tr th {\n",
       "        vertical-align: top;\n",
       "    }\n",
       "\n",
       "    .dataframe thead th {\n",
       "        text-align: right;\n",
       "    }\n",
       "</style>\n",
       "<table border=\"1\" class=\"dataframe\">\n",
       "  <thead>\n",
       "    <tr style=\"text-align: right;\">\n",
       "      <th></th>\n",
       "      <th>Observed Values</th>\n",
       "      <th>East</th>\n",
       "      <th>West</th>\n",
       "      <th>North</th>\n",
       "      <th>South</th>\n",
       "    </tr>\n",
       "  </thead>\n",
       "  <tbody>\n",
       "    <tr>\n",
       "      <th>0</th>\n",
       "      <td>Males</td>\n",
       "      <td>50</td>\n",
       "      <td>142</td>\n",
       "      <td>131</td>\n",
       "      <td>70</td>\n",
       "    </tr>\n",
       "    <tr>\n",
       "      <th>1</th>\n",
       "      <td>Females</td>\n",
       "      <td>435</td>\n",
       "      <td>1523</td>\n",
       "      <td>1356</td>\n",
       "      <td>750</td>\n",
       "    </tr>\n",
       "  </tbody>\n",
       "</table>\n",
       "</div>"
      ],
      "text/plain": [
       "  Observed Values  East  West  North  South\n",
       "0           Males    50   142    131     70\n",
       "1         Females   435  1523   1356    750"
      ]
     },
     "execution_count": 16,
     "metadata": {},
     "output_type": "execute_result"
    }
   ],
   "source": [
    "BR.head()"
   ]
  },
  {
   "cell_type": "markdown",
   "id": "dbe0f390",
   "metadata": {},
   "source": [
    "# Two Tail Test"
   ]
  },
  {
   "cell_type": "code",
   "execution_count": 3,
   "id": "5faeea10",
   "metadata": {},
   "outputs": [],
   "source": [
    "male = [50,142,131,70]\n",
    "female=[435,1523,1356,750]"
   ]
  },
  {
   "cell_type": "code",
   "execution_count": 4,
   "id": "266174e0",
   "metadata": {},
   "outputs": [
    {
     "data": {
      "text/plain": [
       "Ttest_indResult(statistic=-3.5834877367684856, pvalue=0.011594334372357056)"
      ]
     },
     "execution_count": 4,
     "metadata": {},
     "output_type": "execute_result"
    }
   ],
   "source": [
    "stats.ttest_ind(male,female)"
   ]
  },
  {
   "cell_type": "code",
   "execution_count": 12,
   "id": "743cbbe5",
   "metadata": {},
   "outputs": [
    {
     "name": "stdout",
     "output_type": "stream",
     "text": [
      "(1.595945538661058, 0.6603094907091882, 3, array([[  42.76531299,  146.81287862,  131.11756787,   72.30424052],\n",
      "       [ 442.23468701, 1518.18712138, 1355.88243213,  747.69575948]]))\n",
      "chi =1.595946 p-value=0.660309\n"
     ]
    }
   ],
   "source": [
    "import scipy.stats as stats\n",
    "chistats=stats.chi2_contingency([male,female])\n",
    "print(chistats)\n",
    "print('chi =%f p-value=%f' % (chistats[0], chistats[1]))\n"
   ]
  },
  {
   "cell_type": "markdown",
   "id": "068bcbfb",
   "metadata": {},
   "source": [
    "# chi>0.05 and so the p-value\n",
    "so we accept null hypothesis"
   ]
  },
  {
   "cell_type": "markdown",
   "id": "88dd182b",
   "metadata": {},
   "source": [
    "# Costomer assignment"
   ]
  },
  {
   "cell_type": "code",
   "execution_count": 14,
   "id": "53d66a91",
   "metadata": {},
   "outputs": [],
   "source": [
    "import pandas as pd\n",
    "co=pd.read_csv('Costomer+OrderForm.csv')"
   ]
  },
  {
   "cell_type": "code",
   "execution_count": 15,
   "id": "fafad027",
   "metadata": {},
   "outputs": [
    {
     "data": {
      "text/html": [
       "<div>\n",
       "<style scoped>\n",
       "    .dataframe tbody tr th:only-of-type {\n",
       "        vertical-align: middle;\n",
       "    }\n",
       "\n",
       "    .dataframe tbody tr th {\n",
       "        vertical-align: top;\n",
       "    }\n",
       "\n",
       "    .dataframe thead th {\n",
       "        text-align: right;\n",
       "    }\n",
       "</style>\n",
       "<table border=\"1\" class=\"dataframe\">\n",
       "  <thead>\n",
       "    <tr style=\"text-align: right;\">\n",
       "      <th></th>\n",
       "      <th>Phillippines</th>\n",
       "      <th>Indonesia</th>\n",
       "      <th>Malta</th>\n",
       "      <th>India</th>\n",
       "    </tr>\n",
       "  </thead>\n",
       "  <tbody>\n",
       "    <tr>\n",
       "      <th>0</th>\n",
       "      <td>Error Free</td>\n",
       "      <td>Error Free</td>\n",
       "      <td>Defective</td>\n",
       "      <td>Error Free</td>\n",
       "    </tr>\n",
       "    <tr>\n",
       "      <th>1</th>\n",
       "      <td>Error Free</td>\n",
       "      <td>Error Free</td>\n",
       "      <td>Error Free</td>\n",
       "      <td>Defective</td>\n",
       "    </tr>\n",
       "    <tr>\n",
       "      <th>2</th>\n",
       "      <td>Error Free</td>\n",
       "      <td>Defective</td>\n",
       "      <td>Defective</td>\n",
       "      <td>Error Free</td>\n",
       "    </tr>\n",
       "    <tr>\n",
       "      <th>3</th>\n",
       "      <td>Error Free</td>\n",
       "      <td>Error Free</td>\n",
       "      <td>Error Free</td>\n",
       "      <td>Error Free</td>\n",
       "    </tr>\n",
       "    <tr>\n",
       "      <th>4</th>\n",
       "      <td>Error Free</td>\n",
       "      <td>Error Free</td>\n",
       "      <td>Defective</td>\n",
       "      <td>Error Free</td>\n",
       "    </tr>\n",
       "  </tbody>\n",
       "</table>\n",
       "</div>"
      ],
      "text/plain": [
       "  Phillippines   Indonesia       Malta       India\n",
       "0   Error Free  Error Free   Defective  Error Free\n",
       "1   Error Free  Error Free  Error Free   Defective\n",
       "2   Error Free   Defective   Defective  Error Free\n",
       "3   Error Free  Error Free  Error Free  Error Free\n",
       "4   Error Free  Error Free   Defective  Error Free"
      ]
     },
     "execution_count": 15,
     "metadata": {},
     "output_type": "execute_result"
    }
   ],
   "source": [
    "co.head()"
   ]
  },
  {
   "cell_type": "code",
   "execution_count": 16,
   "id": "a6fb87d3",
   "metadata": {},
   "outputs": [
    {
     "data": {
      "text/plain": [
       "(300, 4)"
      ]
     },
     "execution_count": 16,
     "metadata": {},
     "output_type": "execute_result"
    }
   ],
   "source": [
    "co.shape"
   ]
  },
  {
   "cell_type": "code",
   "execution_count": 20,
   "id": "8e61cd2f",
   "metadata": {},
   "outputs": [
    {
     "data": {
      "text/plain": [
       "Error Free    271\n",
       "Defective      29\n",
       "Name: Phillippines, dtype: int64"
      ]
     },
     "execution_count": 20,
     "metadata": {},
     "output_type": "execute_result"
    }
   ],
   "source": [
    "co['Phillippines'].value_counts()"
   ]
  },
  {
   "cell_type": "code",
   "execution_count": 21,
   "id": "d8a8466b",
   "metadata": {},
   "outputs": [
    {
     "data": {
      "text/plain": [
       "Error Free    267\n",
       "Defective      33\n",
       "Name: Indonesia, dtype: int64"
      ]
     },
     "execution_count": 21,
     "metadata": {},
     "output_type": "execute_result"
    }
   ],
   "source": [
    "co['Indonesia'].value_counts()"
   ]
  },
  {
   "cell_type": "code",
   "execution_count": 22,
   "id": "71e08fd1",
   "metadata": {},
   "outputs": [
    {
     "data": {
      "text/plain": [
       "Error Free    269\n",
       "Defective      31\n",
       "Name: Malta, dtype: int64"
      ]
     },
     "execution_count": 22,
     "metadata": {},
     "output_type": "execute_result"
    }
   ],
   "source": [
    "co['Malta'].value_counts()"
   ]
  },
  {
   "cell_type": "code",
   "execution_count": 23,
   "id": "c07712cf",
   "metadata": {},
   "outputs": [
    {
     "data": {
      "text/plain": [
       "Error Free    269\n",
       "Defective      31\n",
       "Name: Malta, dtype: int64"
      ]
     },
     "execution_count": 23,
     "metadata": {},
     "output_type": "execute_result"
    }
   ],
   "source": [
    "co['Malta'].value_counts()"
   ]
  },
  {
   "cell_type": "code",
   "execution_count": 24,
   "id": "aeb8d8b9",
   "metadata": {
    "scrolled": true
   },
   "outputs": [
    {
     "data": {
      "text/plain": [
       "(3.858960685820355,\n",
       " 0.2771020991233135,\n",
       " 3,\n",
       " array([[271.75, 271.75, 271.75, 271.75],\n",
       "        [ 28.25,  28.25,  28.25,  28.25]]))"
      ]
     },
     "execution_count": 24,
     "metadata": {},
     "output_type": "execute_result"
    }
   ],
   "source": [
    "stats.chi2_contingency([[271,267,269,280],[29,33,31,20]])"
   ]
  },
  {
   "cell_type": "markdown",
   "id": "bba04122",
   "metadata": {},
   "source": [
    "p-value(0.2771)>0.05\n",
    "so we accept null hypothesis"
   ]
  },
  {
   "cell_type": "markdown",
   "id": "d71c4fee",
   "metadata": {},
   "source": [
    "# Labtat_Assignment"
   ]
  },
  {
   "cell_type": "code",
   "execution_count": 26,
   "id": "2159f41b",
   "metadata": {},
   "outputs": [
    {
     "name": "stdout",
     "output_type": "stream",
     "text": [
      "     Laboratory 1  Laboratory 2  Laboratory 3  Laboratory 4\n",
      "0          185.35        165.53        176.70        166.13\n",
      "1          170.49        185.91        198.45        160.79\n",
      "2          192.77        194.92        201.23        185.18\n",
      "3          177.33        183.00        199.61        176.42\n",
      "4          193.41        169.57        204.63        152.60\n",
      "..            ...           ...           ...           ...\n",
      "115        178.49        170.66        193.80        172.68\n",
      "116        176.08        183.98        215.25        177.64\n",
      "117        202.48        174.54        203.99        170.27\n",
      "118        182.40        197.18        194.52        150.87\n",
      "119        182.09        215.17        221.49        162.21\n",
      "\n",
      "[120 rows x 4 columns]\n"
     ]
    }
   ],
   "source": [
    "lab=pd.read_csv(\"LabTAT.csv\")\n",
    "print(lab)"
   ]
  },
  {
   "cell_type": "code",
   "execution_count": 27,
   "id": "416dcbd1",
   "metadata": {},
   "outputs": [
    {
     "name": "stdout",
     "output_type": "stream",
     "text": [
      "<class 'pandas.core.frame.DataFrame'>\n",
      "RangeIndex: 120 entries, 0 to 119\n",
      "Data columns (total 4 columns):\n",
      " #   Column        Non-Null Count  Dtype  \n",
      "---  ------        --------------  -----  \n",
      " 0   Laboratory 1  120 non-null    float64\n",
      " 1   Laboratory 2  120 non-null    float64\n",
      " 2   Laboratory 3  120 non-null    float64\n",
      " 3   Laboratory 4  120 non-null    float64\n",
      "dtypes: float64(4)\n",
      "memory usage: 3.8 KB\n"
     ]
    }
   ],
   "source": [
    "lab.info()"
   ]
  },
  {
   "cell_type": "code",
   "execution_count": 29,
   "id": "d68e72d2",
   "metadata": {},
   "outputs": [
    {
     "data": {
      "text/html": [
       "<div>\n",
       "<style scoped>\n",
       "    .dataframe tbody tr th:only-of-type {\n",
       "        vertical-align: middle;\n",
       "    }\n",
       "\n",
       "    .dataframe tbody tr th {\n",
       "        vertical-align: top;\n",
       "    }\n",
       "\n",
       "    .dataframe thead th {\n",
       "        text-align: right;\n",
       "    }\n",
       "</style>\n",
       "<table border=\"1\" class=\"dataframe\">\n",
       "  <thead>\n",
       "    <tr style=\"text-align: right;\">\n",
       "      <th></th>\n",
       "      <th>Laboratory 1</th>\n",
       "      <th>Laboratory 2</th>\n",
       "      <th>Laboratory 3</th>\n",
       "      <th>Laboratory 4</th>\n",
       "    </tr>\n",
       "  </thead>\n",
       "  <tbody>\n",
       "    <tr>\n",
       "      <th>count</th>\n",
       "      <td>120.000000</td>\n",
       "      <td>120.000000</td>\n",
       "      <td>120.000000</td>\n",
       "      <td>120.00000</td>\n",
       "    </tr>\n",
       "    <tr>\n",
       "      <th>mean</th>\n",
       "      <td>178.361583</td>\n",
       "      <td>178.902917</td>\n",
       "      <td>199.913250</td>\n",
       "      <td>163.68275</td>\n",
       "    </tr>\n",
       "    <tr>\n",
       "      <th>std</th>\n",
       "      <td>13.173594</td>\n",
       "      <td>14.957114</td>\n",
       "      <td>16.539033</td>\n",
       "      <td>15.08508</td>\n",
       "    </tr>\n",
       "    <tr>\n",
       "      <th>min</th>\n",
       "      <td>138.300000</td>\n",
       "      <td>140.550000</td>\n",
       "      <td>159.690000</td>\n",
       "      <td>124.06000</td>\n",
       "    </tr>\n",
       "    <tr>\n",
       "      <th>25%</th>\n",
       "      <td>170.335000</td>\n",
       "      <td>168.025000</td>\n",
       "      <td>188.232500</td>\n",
       "      <td>154.05000</td>\n",
       "    </tr>\n",
       "    <tr>\n",
       "      <th>50%</th>\n",
       "      <td>178.530000</td>\n",
       "      <td>178.870000</td>\n",
       "      <td>199.805000</td>\n",
       "      <td>164.42500</td>\n",
       "    </tr>\n",
       "    <tr>\n",
       "      <th>75%</th>\n",
       "      <td>186.535000</td>\n",
       "      <td>189.112500</td>\n",
       "      <td>211.332500</td>\n",
       "      <td>172.88250</td>\n",
       "    </tr>\n",
       "    <tr>\n",
       "      <th>max</th>\n",
       "      <td>216.390000</td>\n",
       "      <td>217.860000</td>\n",
       "      <td>238.700000</td>\n",
       "      <td>205.18000</td>\n",
       "    </tr>\n",
       "  </tbody>\n",
       "</table>\n",
       "</div>"
      ],
      "text/plain": [
       "       Laboratory 1  Laboratory 2  Laboratory 3  Laboratory 4\n",
       "count    120.000000    120.000000    120.000000     120.00000\n",
       "mean     178.361583    178.902917    199.913250     163.68275\n",
       "std       13.173594     14.957114     16.539033      15.08508\n",
       "min      138.300000    140.550000    159.690000     124.06000\n",
       "25%      170.335000    168.025000    188.232500     154.05000\n",
       "50%      178.530000    178.870000    199.805000     164.42500\n",
       "75%      186.535000    189.112500    211.332500     172.88250\n",
       "max      216.390000    217.860000    238.700000     205.18000"
      ]
     },
     "execution_count": 29,
     "metadata": {},
     "output_type": "execute_result"
    }
   ],
   "source": [
    "lab.describe()"
   ]
  },
  {
   "cell_type": "code",
   "execution_count": 30,
   "id": "785fa5af",
   "metadata": {},
   "outputs": [],
   "source": [
    "lb1=pd.DataFrame(lab[\"Laboratory 1\"])\n",
    "lb2=pd.DataFrame(lab[\"Laboratory 2\"]) \n",
    "lb3=pd.DataFrame(lab[\"Laboratory 3\"])\n",
    "lb4=pd.DataFrame(lab['Laboratory 4']) "
   ]
  },
  {
   "cell_type": "code",
   "execution_count": 31,
   "id": "30d18efe",
   "metadata": {},
   "outputs": [
    {
     "data": {
      "text/plain": [
       "F_onewayResult(statistic=array([118.70421654]), pvalue=array([2.11567089e-57]))"
      ]
     },
     "execution_count": 31,
     "metadata": {},
     "output_type": "execute_result"
    }
   ],
   "source": [
    "import scipy.stats as stats\n",
    "stats.f_oneway(lb1,lb2,lb3,lb4)"
   ]
  },
  {
   "cell_type": "markdown",
   "id": "de1acf16",
   "metadata": {},
   "source": [
    "Hence: p-value>0.05 so we accept null hypothesis"
   ]
  }
 ],
 "metadata": {
  "kernelspec": {
   "display_name": "Python 3 (ipykernel)",
   "language": "python",
   "name": "python3"
  },
  "language_info": {
   "codemirror_mode": {
    "name": "ipython",
    "version": 3
   },
   "file_extension": ".py",
   "mimetype": "text/x-python",
   "name": "python",
   "nbconvert_exporter": "python",
   "pygments_lexer": "ipython3",
   "version": "3.9.7"
  }
 },
 "nbformat": 4,
 "nbformat_minor": 5
}
